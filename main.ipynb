{
 "cells": [
  {
   "cell_type": "code",
   "execution_count": 1,
   "metadata": {
    "collapsed": true
   },
   "outputs": [],
   "source": [
    "from ImageService import ImageService\n",
    "from ColorService import ColorService\n",
    "from DataframeService import DataframeService\n",
    "import pandas as pd\n",
    "imageService = ImageService()\n",
    "colorService = ColorService()\n",
    "dataframeService = DataframeService()"
   ]
  },
  {
   "cell_type": "code",
   "execution_count": 2,
   "outputs": [
    {
     "data": {
      "text/plain": "   Unnamed: 0.1  Unnamed: 0 imdb_title_id  year                      genre  \\\n0             0       18313     tt0079285  1980  Adventure, Horror, Sci-Fi   \n1             1       18611     tt0080339  1980                     Comedy   \n2             2       18618     tt0080360  1980   Horror, Sci-Fi, Thriller   \n3             3       18620     tt0080365  1980      Crime, Drama, Mystery   \n4             4       18623     tt0080377  1980             Action, Comedy   \n\n                                           colors    genre_1  genre_2  \\\n0    ['gray', 'white', 'black', 'navy', 'silver']  Adventure   Horror   \n1    ['white', 'gray', 'red', 'silver', 'maroon']     Comedy      NaN   \n2    ['red', 'black', 'gray', 'maroon', 'silver']     Horror   Sci-Fi   \n3   ['gray', 'silver', 'gray', 'black', 'silver']      Crime    Drama   \n4  ['black', 'gray', 'maroon', 'silver', 'olive']     Action   Comedy   \n\n     genre_3 color_1  color_2  color_3  color_4  color_5  \n0     Sci-Fi    gray    white    black     navy   silver  \n1        NaN   white     gray      red   silver   maroon  \n2   Thriller     red    black     gray   maroon   silver  \n3    Mystery    gray   silver     gray    black   silver  \n4        NaN   black     gray   maroon   silver    olive  ",
      "text/html": "<div>\n<style scoped>\n    .dataframe tbody tr th:only-of-type {\n        vertical-align: middle;\n    }\n\n    .dataframe tbody tr th {\n        vertical-align: top;\n    }\n\n    .dataframe thead th {\n        text-align: right;\n    }\n</style>\n<table border=\"1\" class=\"dataframe\">\n  <thead>\n    <tr style=\"text-align: right;\">\n      <th></th>\n      <th>Unnamed: 0.1</th>\n      <th>Unnamed: 0</th>\n      <th>imdb_title_id</th>\n      <th>year</th>\n      <th>genre</th>\n      <th>colors</th>\n      <th>genre_1</th>\n      <th>genre_2</th>\n      <th>genre_3</th>\n      <th>color_1</th>\n      <th>color_2</th>\n      <th>color_3</th>\n      <th>color_4</th>\n      <th>color_5</th>\n    </tr>\n  </thead>\n  <tbody>\n    <tr>\n      <th>0</th>\n      <td>0</td>\n      <td>18313</td>\n      <td>tt0079285</td>\n      <td>1980</td>\n      <td>Adventure, Horror, Sci-Fi</td>\n      <td>['gray', 'white', 'black', 'navy', 'silver']</td>\n      <td>Adventure</td>\n      <td>Horror</td>\n      <td>Sci-Fi</td>\n      <td>gray</td>\n      <td>white</td>\n      <td>black</td>\n      <td>navy</td>\n      <td>silver</td>\n    </tr>\n    <tr>\n      <th>1</th>\n      <td>1</td>\n      <td>18611</td>\n      <td>tt0080339</td>\n      <td>1980</td>\n      <td>Comedy</td>\n      <td>['white', 'gray', 'red', 'silver', 'maroon']</td>\n      <td>Comedy</td>\n      <td>NaN</td>\n      <td>NaN</td>\n      <td>white</td>\n      <td>gray</td>\n      <td>red</td>\n      <td>silver</td>\n      <td>maroon</td>\n    </tr>\n    <tr>\n      <th>2</th>\n      <td>2</td>\n      <td>18618</td>\n      <td>tt0080360</td>\n      <td>1980</td>\n      <td>Horror, Sci-Fi, Thriller</td>\n      <td>['red', 'black', 'gray', 'maroon', 'silver']</td>\n      <td>Horror</td>\n      <td>Sci-Fi</td>\n      <td>Thriller</td>\n      <td>red</td>\n      <td>black</td>\n      <td>gray</td>\n      <td>maroon</td>\n      <td>silver</td>\n    </tr>\n    <tr>\n      <th>3</th>\n      <td>3</td>\n      <td>18620</td>\n      <td>tt0080365</td>\n      <td>1980</td>\n      <td>Crime, Drama, Mystery</td>\n      <td>['gray', 'silver', 'gray', 'black', 'silver']</td>\n      <td>Crime</td>\n      <td>Drama</td>\n      <td>Mystery</td>\n      <td>gray</td>\n      <td>silver</td>\n      <td>gray</td>\n      <td>black</td>\n      <td>silver</td>\n    </tr>\n    <tr>\n      <th>4</th>\n      <td>4</td>\n      <td>18623</td>\n      <td>tt0080377</td>\n      <td>1980</td>\n      <td>Action, Comedy</td>\n      <td>['black', 'gray', 'maroon', 'silver', 'olive']</td>\n      <td>Action</td>\n      <td>Comedy</td>\n      <td>NaN</td>\n      <td>black</td>\n      <td>gray</td>\n      <td>maroon</td>\n      <td>silver</td>\n      <td>olive</td>\n    </tr>\n  </tbody>\n</table>\n</div>"
     },
     "execution_count": 2,
     "metadata": {},
     "output_type": "execute_result"
    }
   ],
   "source": [
    "df = dataframeService.getsavedDataframe()\n",
    "genreMap = dataframeService.getValueMap(df, 'genre_1')\n",
    "\n",
    "df.head()"
   ],
   "metadata": {
    "collapsed": false,
    "pycharm": {
     "name": "#%%\n"
    }
   }
  },
  {
   "cell_type": "code",
   "execution_count": 151,
   "outputs": [
    {
     "data": {
      "text/plain": "   Unnamed: 0 imdb_title_id  year                      genre  \\\n0       18313     tt0079285  1980  Adventure, Horror, Sci-Fi   \n1       18611     tt0080339  1980                     Comedy   \n2       18618     tt0080360  1980   Horror, Sci-Fi, Thriller   \n3       18620     tt0080365  1980      Crime, Drama, Mystery   \n4       18623     tt0080377  1980             Action, Comedy   \n\n                                           colors  genre_1  genre_2  \\\n0    ['gray', 'white', 'black', 'navy', 'silver']        0   Horror   \n1    ['white', 'gray', 'red', 'silver', 'maroon']        1      NaN   \n2    ['red', 'black', 'gray', 'maroon', 'silver']        2   Sci-Fi   \n3   ['gray', 'silver', 'gray', 'black', 'silver']        3    Drama   \n4  ['black', 'gray', 'maroon', 'silver', 'olive']        4   Comedy   \n\n     genre_3 color_1 color_2 color_3 color_4 color_5  \n0     Sci-Fi                                          \n1        NaN                                          \n2   Thriller                                          \n3    Mystery                                          \n4        NaN                                          ",
      "text/html": "<div>\n<style scoped>\n    .dataframe tbody tr th:only-of-type {\n        vertical-align: middle;\n    }\n\n    .dataframe tbody tr th {\n        vertical-align: top;\n    }\n\n    .dataframe thead th {\n        text-align: right;\n    }\n</style>\n<table border=\"1\" class=\"dataframe\">\n  <thead>\n    <tr style=\"text-align: right;\">\n      <th></th>\n      <th>Unnamed: 0</th>\n      <th>imdb_title_id</th>\n      <th>year</th>\n      <th>genre</th>\n      <th>colors</th>\n      <th>genre_1</th>\n      <th>genre_2</th>\n      <th>genre_3</th>\n      <th>color_1</th>\n      <th>color_2</th>\n      <th>color_3</th>\n      <th>color_4</th>\n      <th>color_5</th>\n    </tr>\n  </thead>\n  <tbody>\n    <tr>\n      <th>0</th>\n      <td>18313</td>\n      <td>tt0079285</td>\n      <td>1980</td>\n      <td>Adventure, Horror, Sci-Fi</td>\n      <td>['gray', 'white', 'black', 'navy', 'silver']</td>\n      <td>0</td>\n      <td>Horror</td>\n      <td>Sci-Fi</td>\n      <td></td>\n      <td></td>\n      <td></td>\n      <td></td>\n      <td></td>\n    </tr>\n    <tr>\n      <th>1</th>\n      <td>18611</td>\n      <td>tt0080339</td>\n      <td>1980</td>\n      <td>Comedy</td>\n      <td>['white', 'gray', 'red', 'silver', 'maroon']</td>\n      <td>1</td>\n      <td>NaN</td>\n      <td>NaN</td>\n      <td></td>\n      <td></td>\n      <td></td>\n      <td></td>\n      <td></td>\n    </tr>\n    <tr>\n      <th>2</th>\n      <td>18618</td>\n      <td>tt0080360</td>\n      <td>1980</td>\n      <td>Horror, Sci-Fi, Thriller</td>\n      <td>['red', 'black', 'gray', 'maroon', 'silver']</td>\n      <td>2</td>\n      <td>Sci-Fi</td>\n      <td>Thriller</td>\n      <td></td>\n      <td></td>\n      <td></td>\n      <td></td>\n      <td></td>\n    </tr>\n    <tr>\n      <th>3</th>\n      <td>18620</td>\n      <td>tt0080365</td>\n      <td>1980</td>\n      <td>Crime, Drama, Mystery</td>\n      <td>['gray', 'silver', 'gray', 'black', 'silver']</td>\n      <td>3</td>\n      <td>Drama</td>\n      <td>Mystery</td>\n      <td></td>\n      <td></td>\n      <td></td>\n      <td></td>\n      <td></td>\n    </tr>\n    <tr>\n      <th>4</th>\n      <td>18623</td>\n      <td>tt0080377</td>\n      <td>1980</td>\n      <td>Action, Comedy</td>\n      <td>['black', 'gray', 'maroon', 'silver', 'olive']</td>\n      <td>4</td>\n      <td>Comedy</td>\n      <td>NaN</td>\n      <td></td>\n      <td></td>\n      <td></td>\n      <td></td>\n      <td></td>\n    </tr>\n  </tbody>\n</table>\n</div>"
     },
     "execution_count": 151,
     "metadata": {},
     "output_type": "execute_result"
    }
   ],
   "source": [
    "dataframeService.replaceValueFromMap(df, 'genre_1', genreMap)\n",
    "df.head()"
   ],
   "metadata": {
    "collapsed": false,
    "pycharm": {
     "name": "#%%\n"
    }
   }
  },
  {
   "cell_type": "code",
   "execution_count": 154,
   "outputs": [],
   "source": [
    "def test(colors, i):\n",
    "    if colors is None or pd.isna(colors):\n",
    "        return None\n",
    "    return colors.replace('[','').replace(']','').split(',')[i].replace(\"'\", '')\n",
    "\n",
    "df['color_1'] = df['colors'].apply(lambda r: test(r, 0))\n",
    "df['color_2'] = df['colors'].apply(lambda r: test(r, 1))\n",
    "df['color_3'] = df['colors'].apply(lambda r: test(r, 2))\n",
    "df['color_4'] = df['colors'].apply(lambda r: test(r, 3))\n",
    "df['color_5'] = df['colors'].apply(lambda r: test(r, 4))\n"
   ],
   "metadata": {
    "collapsed": false,
    "pycharm": {
     "name": "#%%\n"
    }
   }
  },
  {
   "cell_type": "code",
   "execution_count": 167,
   "outputs": [
    {
     "data": {
      "text/plain": "   Unnamed: 0 imdb_title_id  year                      genre  \\\n0       18313     tt0079285  1980  Adventure, Horror, Sci-Fi   \n1       18611     tt0080339  1980                     Comedy   \n2       18618     tt0080360  1980   Horror, Sci-Fi, Thriller   \n3       18620     tt0080365  1980      Crime, Drama, Mystery   \n4       18623     tt0080377  1980             Action, Comedy   \n\n                                           colors    genre_1  genre_2  \\\n0    ['gray', 'white', 'black', 'navy', 'silver']  Adventure   Horror   \n1    ['white', 'gray', 'red', 'silver', 'maroon']     Comedy      NaN   \n2    ['red', 'black', 'gray', 'maroon', 'silver']     Horror   Sci-Fi   \n3   ['gray', 'silver', 'gray', 'black', 'silver']      Crime    Drama   \n4  ['black', 'gray', 'maroon', 'silver', 'olive']     Action   Comedy   \n\n     genre_3 color_1  color_2  color_3  color_4  color_5  \n0     Sci-Fi    gray    white    black     navy   silver  \n1        NaN   white     gray      red   silver   maroon  \n2   Thriller     red    black     gray   maroon   silver  \n3    Mystery    gray   silver     gray    black   silver  \n4        NaN   black     gray   maroon   silver    olive  ",
      "text/html": "<div>\n<style scoped>\n    .dataframe tbody tr th:only-of-type {\n        vertical-align: middle;\n    }\n\n    .dataframe tbody tr th {\n        vertical-align: top;\n    }\n\n    .dataframe thead th {\n        text-align: right;\n    }\n</style>\n<table border=\"1\" class=\"dataframe\">\n  <thead>\n    <tr style=\"text-align: right;\">\n      <th></th>\n      <th>Unnamed: 0</th>\n      <th>imdb_title_id</th>\n      <th>year</th>\n      <th>genre</th>\n      <th>colors</th>\n      <th>genre_1</th>\n      <th>genre_2</th>\n      <th>genre_3</th>\n      <th>color_1</th>\n      <th>color_2</th>\n      <th>color_3</th>\n      <th>color_4</th>\n      <th>color_5</th>\n    </tr>\n  </thead>\n  <tbody>\n    <tr>\n      <th>0</th>\n      <td>18313</td>\n      <td>tt0079285</td>\n      <td>1980</td>\n      <td>Adventure, Horror, Sci-Fi</td>\n      <td>['gray', 'white', 'black', 'navy', 'silver']</td>\n      <td>Adventure</td>\n      <td>Horror</td>\n      <td>Sci-Fi</td>\n      <td>gray</td>\n      <td>white</td>\n      <td>black</td>\n      <td>navy</td>\n      <td>silver</td>\n    </tr>\n    <tr>\n      <th>1</th>\n      <td>18611</td>\n      <td>tt0080339</td>\n      <td>1980</td>\n      <td>Comedy</td>\n      <td>['white', 'gray', 'red', 'silver', 'maroon']</td>\n      <td>Comedy</td>\n      <td>NaN</td>\n      <td>NaN</td>\n      <td>white</td>\n      <td>gray</td>\n      <td>red</td>\n      <td>silver</td>\n      <td>maroon</td>\n    </tr>\n    <tr>\n      <th>2</th>\n      <td>18618</td>\n      <td>tt0080360</td>\n      <td>1980</td>\n      <td>Horror, Sci-Fi, Thriller</td>\n      <td>['red', 'black', 'gray', 'maroon', 'silver']</td>\n      <td>Horror</td>\n      <td>Sci-Fi</td>\n      <td>Thriller</td>\n      <td>red</td>\n      <td>black</td>\n      <td>gray</td>\n      <td>maroon</td>\n      <td>silver</td>\n    </tr>\n    <tr>\n      <th>3</th>\n      <td>18620</td>\n      <td>tt0080365</td>\n      <td>1980</td>\n      <td>Crime, Drama, Mystery</td>\n      <td>['gray', 'silver', 'gray', 'black', 'silver']</td>\n      <td>Crime</td>\n      <td>Drama</td>\n      <td>Mystery</td>\n      <td>gray</td>\n      <td>silver</td>\n      <td>gray</td>\n      <td>black</td>\n      <td>silver</td>\n    </tr>\n    <tr>\n      <th>4</th>\n      <td>18623</td>\n      <td>tt0080377</td>\n      <td>1980</td>\n      <td>Action, Comedy</td>\n      <td>['black', 'gray', 'maroon', 'silver', 'olive']</td>\n      <td>Action</td>\n      <td>Comedy</td>\n      <td>NaN</td>\n      <td>black</td>\n      <td>gray</td>\n      <td>maroon</td>\n      <td>silver</td>\n      <td>olive</td>\n    </tr>\n  </tbody>\n</table>\n</div>"
     },
     "execution_count": 167,
     "metadata": {},
     "output_type": "execute_result"
    }
   ],
   "source": [
    "df.head()"
   ],
   "metadata": {
    "collapsed": false,
    "pycharm": {
     "name": "#%%\n"
    }
   }
  },
  {
   "cell_type": "code",
   "execution_count": 6,
   "outputs": [
    {
     "data": {
      "text/plain": "             year   genre_1   genre_2   genre_3   color_1   color_2   color_3  \\\nyear     1.000000 -0.027061 -0.014003  0.011640 -0.001056 -0.016210 -0.027268   \ngenre_1 -0.027061  1.000000  0.308899 -0.178530 -0.005895 -0.017227 -0.021845   \ngenre_2 -0.014003  0.308899  1.000000  0.021235 -0.033985 -0.022840 -0.005178   \ngenre_3  0.011640 -0.178530  0.021235  1.000000 -0.075378  0.002087 -0.003116   \ncolor_1 -0.001056 -0.005895 -0.033985 -0.075378  1.000000 -0.344304  0.006056   \ncolor_2 -0.016210 -0.017227 -0.022840  0.002087 -0.344304  1.000000 -0.218755   \ncolor_3 -0.027268 -0.021845 -0.005178 -0.003116  0.006056 -0.218755  1.000000   \ncolor_4 -0.014256 -0.011562  0.004600 -0.014173 -0.026552 -0.047026 -0.181352   \ncolor_5 -0.010912 -0.010735 -0.007798  0.012585 -0.000889 -0.020610 -0.123735   \n\n          color_4   color_5  \nyear    -0.014256 -0.010912  \ngenre_1 -0.011562 -0.010735  \ngenre_2  0.004600 -0.007798  \ngenre_3 -0.014173  0.012585  \ncolor_1 -0.026552 -0.000889  \ncolor_2 -0.047026 -0.020610  \ncolor_3 -0.181352 -0.123735  \ncolor_4  1.000000 -0.175957  \ncolor_5 -0.175957  1.000000  ",
      "text/html": "<div>\n<style scoped>\n    .dataframe tbody tr th:only-of-type {\n        vertical-align: middle;\n    }\n\n    .dataframe tbody tr th {\n        vertical-align: top;\n    }\n\n    .dataframe thead th {\n        text-align: right;\n    }\n</style>\n<table border=\"1\" class=\"dataframe\">\n  <thead>\n    <tr style=\"text-align: right;\">\n      <th></th>\n      <th>year</th>\n      <th>genre_1</th>\n      <th>genre_2</th>\n      <th>genre_3</th>\n      <th>color_1</th>\n      <th>color_2</th>\n      <th>color_3</th>\n      <th>color_4</th>\n      <th>color_5</th>\n    </tr>\n  </thead>\n  <tbody>\n    <tr>\n      <th>year</th>\n      <td>1.000000</td>\n      <td>-0.027061</td>\n      <td>-0.014003</td>\n      <td>0.011640</td>\n      <td>-0.001056</td>\n      <td>-0.016210</td>\n      <td>-0.027268</td>\n      <td>-0.014256</td>\n      <td>-0.010912</td>\n    </tr>\n    <tr>\n      <th>genre_1</th>\n      <td>-0.027061</td>\n      <td>1.000000</td>\n      <td>0.308899</td>\n      <td>-0.178530</td>\n      <td>-0.005895</td>\n      <td>-0.017227</td>\n      <td>-0.021845</td>\n      <td>-0.011562</td>\n      <td>-0.010735</td>\n    </tr>\n    <tr>\n      <th>genre_2</th>\n      <td>-0.014003</td>\n      <td>0.308899</td>\n      <td>1.000000</td>\n      <td>0.021235</td>\n      <td>-0.033985</td>\n      <td>-0.022840</td>\n      <td>-0.005178</td>\n      <td>0.004600</td>\n      <td>-0.007798</td>\n    </tr>\n    <tr>\n      <th>genre_3</th>\n      <td>0.011640</td>\n      <td>-0.178530</td>\n      <td>0.021235</td>\n      <td>1.000000</td>\n      <td>-0.075378</td>\n      <td>0.002087</td>\n      <td>-0.003116</td>\n      <td>-0.014173</td>\n      <td>0.012585</td>\n    </tr>\n    <tr>\n      <th>color_1</th>\n      <td>-0.001056</td>\n      <td>-0.005895</td>\n      <td>-0.033985</td>\n      <td>-0.075378</td>\n      <td>1.000000</td>\n      <td>-0.344304</td>\n      <td>0.006056</td>\n      <td>-0.026552</td>\n      <td>-0.000889</td>\n    </tr>\n    <tr>\n      <th>color_2</th>\n      <td>-0.016210</td>\n      <td>-0.017227</td>\n      <td>-0.022840</td>\n      <td>0.002087</td>\n      <td>-0.344304</td>\n      <td>1.000000</td>\n      <td>-0.218755</td>\n      <td>-0.047026</td>\n      <td>-0.020610</td>\n    </tr>\n    <tr>\n      <th>color_3</th>\n      <td>-0.027268</td>\n      <td>-0.021845</td>\n      <td>-0.005178</td>\n      <td>-0.003116</td>\n      <td>0.006056</td>\n      <td>-0.218755</td>\n      <td>1.000000</td>\n      <td>-0.181352</td>\n      <td>-0.123735</td>\n    </tr>\n    <tr>\n      <th>color_4</th>\n      <td>-0.014256</td>\n      <td>-0.011562</td>\n      <td>0.004600</td>\n      <td>-0.014173</td>\n      <td>-0.026552</td>\n      <td>-0.047026</td>\n      <td>-0.181352</td>\n      <td>1.000000</td>\n      <td>-0.175957</td>\n    </tr>\n    <tr>\n      <th>color_5</th>\n      <td>-0.010912</td>\n      <td>-0.010735</td>\n      <td>-0.007798</td>\n      <td>0.012585</td>\n      <td>-0.000889</td>\n      <td>-0.020610</td>\n      <td>-0.123735</td>\n      <td>-0.175957</td>\n      <td>1.000000</td>\n    </tr>\n  </tbody>\n</table>\n</div>"
     },
     "execution_count": 6,
     "metadata": {},
     "output_type": "execute_result"
    }
   ],
   "source": [
    "df['genre_1']=df['genre_1'].astype('category').cat.codes\n",
    "df['genre_2']=df['genre_2'].astype('category').cat.codes\n",
    "df['genre_3']=df['genre_3'].astype('category').cat.codes\n",
    "df['color_1']=df['color_1'].astype('category').cat.codes\n",
    "df['color_2']=df['color_2'].astype('category').cat.codes\n",
    "df['color_3']=df['color_3'].astype('category').cat.codes\n",
    "df['color_4']=df['color_4'].astype('category').cat.codes\n",
    "df['color_5']=df['color_5'].astype('category').cat.codes\n",
    "df.corr()"
   ],
   "metadata": {
    "collapsed": false,
    "pycharm": {
     "name": "#%%\n"
    }
   }
  },
  {
   "cell_type": "code",
   "execution_count": 5,
   "outputs": [],
   "source": [],
   "metadata": {
    "collapsed": false,
    "pycharm": {
     "name": "#%%\n"
    }
   }
  },
  {
   "cell_type": "code",
   "execution_count": 3,
   "outputs": [],
   "source": [],
   "metadata": {
    "collapsed": false,
    "pycharm": {
     "name": "#%%\n"
    }
   }
  }
 ],
 "metadata": {
  "kernelspec": {
   "display_name": "Python 3",
   "language": "python",
   "name": "python3"
  },
  "language_info": {
   "codemirror_mode": {
    "name": "ipython",
    "version": 2
   },
   "file_extension": ".py",
   "mimetype": "text/x-python",
   "name": "python",
   "nbconvert_exporter": "python",
   "pygments_lexer": "ipython2",
   "version": "2.7.6"
  }
 },
 "nbformat": 4,
 "nbformat_minor": 0
}